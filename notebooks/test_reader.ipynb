{
 "cells": [
  {
   "cell_type": "code",
   "execution_count": 1,
   "id": "072d487c",
   "metadata": {},
   "outputs": [
    {
     "name": "stdout",
     "output_type": "stream",
     "text": [
      "Toplam belge sayısı: 5\n",
      "Örnek belge: Belge No: MT-VP-AK-001\n",
      "Tarih: 08.08.2025\n",
      "Kapsam: VortexPro Serisi (VP7xx, VP8xx, VP9xx) Çamaşır Makineleri Arıza Kodları ve Çözüm Adımları\n",
      "Giriş\n",
      "Bu belge, Meridian Teknik Servis bünyesinde görev yapan L1 çağrı merkezi, L2 saha teknisyeni ve L3 merkez teknik uzman personeli için VortexPro Serisi çamaşır makinelerinde karşılaşılan arıza kodlarının anlamlarını ve çözüm adımlarını detaylandırmaktadır. Bu kılavuz, arızaların hızlı ve doğru bir şekilde teşhis edilmesini ve giderilmesini sağlamak amacıyla hazırlanmıştır. Tüm personel, müşteri memnuniyetini en üst düzeyde tutmak için bu prosedürlere eksiksiz uymalıdır.\n",
      "NOT: Herhangi bir parça değişimi veya yazılımsal işlem öncesinde mutlaka yetkili servisin güncel prosedürlerine ve güvenlik talimatlarına uyulmalıdır. Yanlış müdahaleler, cihazda kalıcı hasarlara veya garanti dışı durumlara yol açabilir.\n",
      "Arıza Kodları ve Çözüm Prosedürleri\n",
      "E01: Kapak Kilidi Hatası\n",
      "Tanım: Cihaz, program başlangıcında veya yıkama sırasında kapak kilidini algılayam\n"
     ]
    },
    {
     "name": "stderr",
     "output_type": "stream",
     "text": [
      "/Users/berkaybakac/miniconda3/envs/ragbot/lib/python3.11/site-packages/llama_index/download/module.py:12: UserWarning: pkg_resources is deprecated as an API. See https://setuptools.pypa.io/en/latest/pkg_resources.html. The pkg_resources package is slated for removal as early as 2025-11-30. Refrain from using this package or pin to Setuptools<81.\n",
      "  import pkg_resources\n"
     ]
    }
   ],
   "source": [
    "from llama_index import SimpleDirectoryReader\n",
    "\n",
    "# Belgeleri yükle\n",
    "documents = SimpleDirectoryReader(input_dir=\"../data\").load_data()\n",
    "\n",
    "# İlk belgeyi inceleyelim\n",
    "print(\"Toplam belge sayısı:\", len(documents))\n",
    "print(\"Örnek belge:\", documents[0].text[:1000])  # İlk 1000 karakter\n"
   ]
  }
 ],
 "metadata": {
  "kernelspec": {
   "display_name": "ragbot",
   "language": "python",
   "name": "python3"
  },
  "language_info": {
   "codemirror_mode": {
    "name": "ipython",
    "version": 3
   },
   "file_extension": ".py",
   "mimetype": "text/x-python",
   "name": "python",
   "nbconvert_exporter": "python",
   "pygments_lexer": "ipython3",
   "version": "3.11.13"
  }
 },
 "nbformat": 4,
 "nbformat_minor": 5
}
