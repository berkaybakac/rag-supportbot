{
 "cells": [
  {
   "cell_type": "code",
   "execution_count": 1,
   "id": "072d487c",
   "metadata": {},
   "outputs": [
    {
     "name": "stdout",
     "output_type": "stream",
     "text": [
      "Toplam belge sayısı: 5\n",
      "Örnek belge: \n",
      "ARIZA KODLARI VE TEKNİK AÇIKLAMALAR\n",
      "\n",
      "Bu belge, TeknikServisKolay A.Ş. tarafından hizmet verilen cihazlarda en sık karşılaşılan arıza kodlarının açıklamalarını, çözüm önerilerini ve vaka örneklerini içermektedir. Belge, teknik servis çalışanları ve çağrı merkezi personeli tarafından kullanılmak üzere hazırlanmıştır.\n",
      "\n",
      "BÖLÜM 1 – KODLAMA STANDARTLARI\n",
      "\n",
      "- Tüm kodlar \"ERR\" veya \"F\" ile başlar ve sayısal bir değer içerir.\n",
      "- Kodlar cihazın marka/modeline göre farklılık gösterebilir, ancak çoğu kod uluslararası kabul görmüş standartlara dayanır.\n",
      "- Aynı cihaz türü (ör. kombi, klima, çamaşır makinesi) için farklı üreticilerin kullandığı kodlar değişebilir; bu nedenle üreticiye özel açıklamalar ayrıca belirtilmiştir.\n",
      "\n",
      "BÖLÜM 2 – ARIZA KODLARI\n",
      "\n",
      "1. ERR01 – Alev Algılanmıyor (Kombi)\n",
      "Açıklama: Brülör çalışmasına rağmen iyonizasyon çubuğu alev algılamıyor.\n",
      "Nedenleri:\n",
      "- Gaz valfi arızalı\n",
      "- İyonizasyon çubuğu kirli veya kopmuş\n",
      "- Ateşleme elektrodu çalışmıyor\n",
      "Çözüm:\n",
      "- Gaz valfi kontrol edilmeli\n",
      "- Elektroda\n"
     ]
    },
    {
     "name": "stderr",
     "output_type": "stream",
     "text": [
      "/Users/berkaybakac/miniconda3/envs/ragbot/lib/python3.11/site-packages/llama_index/download/module.py:12: UserWarning: pkg_resources is deprecated as an API. See https://setuptools.pypa.io/en/latest/pkg_resources.html. The pkg_resources package is slated for removal as early as 2025-11-30. Refrain from using this package or pin to Setuptools<81.\n",
      "  import pkg_resources\n"
     ]
    }
   ],
   "source": [
    "from llama_index import SimpleDirectoryReader\n",
    "\n",
    "# Belgeleri yükle\n",
    "documents = SimpleDirectoryReader(input_dir=\"../data\").load_data()\n",
    "\n",
    "# İlk belgeyi inceleyelim\n",
    "print(\"Toplam belge sayısı:\", len(documents))\n",
    "print(\"Örnek belge:\", documents[0].text[:1000])  # İlk 1000 karakter\n"
   ]
  }
 ],
 "metadata": {
  "kernelspec": {
   "display_name": "ragbot",
   "language": "python",
   "name": "python3"
  },
  "language_info": {
   "codemirror_mode": {
    "name": "ipython",
    "version": 3
   },
   "file_extension": ".py",
   "mimetype": "text/x-python",
   "name": "python",
   "nbconvert_exporter": "python",
   "pygments_lexer": "ipython3",
   "version": "3.11.13"
  }
 },
 "nbformat": 4,
 "nbformat_minor": 5
}
